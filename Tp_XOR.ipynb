{
  "nbformat": 4,
  "nbformat_minor": 0,
  "metadata": {
    "colab": {
      "provenance": [],
      "authorship_tag": "ABX9TyP9+/44JzwrngYVqnCLW2xq",
      "include_colab_link": true
    },
    "kernelspec": {
      "name": "python3",
      "display_name": "Python 3"
    },
    "language_info": {
      "name": "python"
    }
  },
  "cells": [
    {
      "cell_type": "markdown",
      "metadata": {
        "id": "view-in-github",
        "colab_type": "text"
      },
      "source": [
        "<a href=\"https://colab.research.google.com/github/anas1IA/TP_DEEP_Learning/blob/main/Tp_XOR.ipynb\" target=\"_parent\"><img src=\"https://colab.research.google.com/assets/colab-badge.svg\" alt=\"Open In Colab\"/></a>"
      ]
    },
    {
      "cell_type": "markdown",
      "source": [
        "## Genration de donnees"
      ],
      "metadata": {
        "id": "QzmkeOw_4o97"
      }
    },
    {
      "cell_type": "code",
      "execution_count": 1,
      "metadata": {
        "colab": {
          "base_uri": "https://localhost:8080/"
        },
        "id": "FLNb1YZsx9PQ",
        "outputId": "7dc4d13e-2bc9-4a60-f901-881a619b02e7"
      },
      "outputs": [
        {
          "output_type": "stream",
          "name": "stdout",
          "text": [
            "Entrées XOR :\n",
            " [[1 1]\n",
            " [0 0]\n",
            " [1 1]\n",
            " [1 0]\n",
            " [0 1]\n",
            " [1 0]\n",
            " [0 1]\n",
            " [0 0]\n",
            " [0 0]\n",
            " [0 1]\n",
            " [0 0]\n",
            " [0 0]\n",
            " [1 0]\n",
            " [1 0]\n",
            " [0 0]\n",
            " [1 0]\n",
            " [0 0]\n",
            " [0 0]\n",
            " [0 0]\n",
            " [1 0]\n",
            " [0 0]\n",
            " [0 1]\n",
            " [0 0]\n",
            " [1 0]\n",
            " [1 1]\n",
            " [1 0]\n",
            " [1 0]\n",
            " [0 0]\n",
            " [1 0]\n",
            " [1 0]\n",
            " [0 0]\n",
            " [0 0]\n",
            " [1 1]\n",
            " [0 1]\n",
            " [0 0]\n",
            " [0 0]\n",
            " [0 1]\n",
            " [1 1]\n",
            " [1 1]\n",
            " [0 1]\n",
            " [1 1]\n",
            " [0 0]\n",
            " [1 1]\n",
            " [1 1]\n",
            " [1 0]\n",
            " [1 0]\n",
            " [0 0]\n",
            " [0 1]\n",
            " [1 1]\n",
            " [0 0]\n",
            " [0 0]\n",
            " [1 1]\n",
            " [1 1]\n",
            " [1 0]\n",
            " [1 0]\n",
            " [1 0]\n",
            " [0 1]\n",
            " [0 0]\n",
            " [0 1]\n",
            " [1 0]\n",
            " [1 0]\n",
            " [1 0]\n",
            " [1 0]\n",
            " [1 0]\n",
            " [0 1]\n",
            " [1 1]\n",
            " [1 1]\n",
            " [1 1]\n",
            " [1 0]\n",
            " [0 1]\n",
            " [0 0]\n",
            " [1 0]\n",
            " [1 0]\n",
            " [1 0]\n",
            " [1 0]\n",
            " [0 1]\n",
            " [1 1]\n",
            " [1 1]\n",
            " [1 1]\n",
            " [1 0]\n",
            " [1 1]\n",
            " [0 0]\n",
            " [0 1]\n",
            " [0 1]\n",
            " [0 1]\n",
            " [1 1]\n",
            " [1 0]\n",
            " [1 1]\n",
            " [0 1]\n",
            " [1 1]\n",
            " [0 0]\n",
            " [1 0]\n",
            " [0 0]\n",
            " [1 1]\n",
            " [0 0]\n",
            " [1 1]\n",
            " [0 0]\n",
            " [0 1]\n",
            " [0 1]\n",
            " [1 0]]\n",
            "Sorties XOR :\n",
            " [0 0 0 1 1 1 1 0 0 1 0 0 1 1 0 1 0 0 0 1 0 1 0 1 0 1 1 0 1 1 0 0 0 1 0 0 1\n",
            " 0 0 1 0 0 0 0 1 1 0 1 0 0 0 0 0 1 1 1 1 0 1 1 1 1 1 1 1 0 0 0 1 1 0 1 1 1\n",
            " 1 1 0 0 0 1 0 0 1 1 1 0 1 0 1 0 0 1 0 0 0 0 0 1 1 1]\n"
          ]
        }
      ],
      "source": [
        "import numpy as np\n",
        "\n",
        "def generate_xor_data(num_samples):\n",
        "    # Générer des paires d'entrées binaires aléatoires\n",
        "    X = np.random.randint(0, 2, size=(num_samples, 2))\n",
        "\n",
        "    # Calculer les sorties XOR correspondantes\n",
        "    y = np.logical_xor(X[:, 0], X[:, 1]).astype(int)\n",
        "\n",
        "    return X, y\n",
        "\n",
        "# Générer 100 exemples de données XOR\n",
        "num_samples = 100\n",
        "X_xor, y_xor = generate_xor_data(num_samples)\n",
        "\n",
        "# Afficher les données générées\n",
        "print(\"Entrées XOR :\\n\", X_xor)\n",
        "print(\"Sorties XOR :\\n\", y_xor)\n"
      ]
    },
    {
      "cell_type": "markdown",
      "source": [
        "## Le Perceptron\n"
      ],
      "metadata": {
        "id": "XTDJ-dek5CDX"
      }
    },
    {
      "cell_type": "code",
      "source": [
        "import numpy as np\n",
        "\n",
        "class Perceptron:\n",
        "    def __init__(self, input_size):\n",
        "        # Initialisation des poids et du seuil\n",
        "        self.weights = np.random.rand(input_size)\n",
        "        self.threshold = np.random.rand()\n",
        "\n",
        "    def step_function(self, x):\n",
        "        # Fonction échelon unitaire\n",
        "        return 1 if x >= 0 else 0\n",
        "\n",
        "    def predict(self, x):\n",
        "        # Calcul de la sortie du perceptron\n",
        "        net_input = np.dot(self.weights, x) - self.threshold\n",
        "        output = self.step_function(net_input)\n",
        "        return output\n",
        "\n",
        "# Génération des données XOR\n",
        "num_samples = 100\n",
        "X_xor, y_xor = generate_xor_data(num_samples)\n",
        "\n",
        "# Initialisation du perceptron avec la taille d'entrée appropriée (2 pour XOR)\n",
        "perceptron = Perceptron(input_size=2)\n",
        "\n",
        "# Entraînement du perceptron\n",
        "epochs = 1000\n",
        "learning_rate = 0.1\n",
        "\n",
        "for epoch in range(epochs):\n",
        "    for i in range(num_samples):\n",
        "        # Sélection d'un exemple aléatoire\n",
        "        random_index = np.random.randint(num_samples)\n",
        "        x_sample = X_xor[random_index]\n",
        "        y_sample = y_xor[random_index]\n",
        "\n",
        "        # Calcul de la prédiction du perceptron\n",
        "        prediction = perceptron.predict(x_sample)\n",
        "\n",
        "        # Mise à jour des poids en fonction de l'erreur\n",
        "        error = y_sample - prediction\n",
        "        perceptron.weights += learning_rate * error * x_sample\n",
        "        perceptron.threshold -= learning_rate * error\n",
        "\n",
        "# Test du perceptron sur les données XOR générées\n",
        "predictions = [perceptron.predict(x) for x in X_xor]\n",
        "\n",
        "# Affichage des résultats\n",
        "print(\"Vraies sorties XOR :\\n\", y_xor)\n",
        "print(\"Prédictions du perceptron :\\n\", predictions)\n"
      ],
      "metadata": {
        "colab": {
          "base_uri": "https://localhost:8080/"
        },
        "id": "KmKDP9CUyRlV",
        "outputId": "bb48e9da-e580-47b9-92df-9520d1787a33"
      },
      "execution_count": 2,
      "outputs": [
        {
          "output_type": "stream",
          "name": "stdout",
          "text": [
            "Vraies sorties XOR :\n",
            " [0 1 1 1 1 1 1 1 1 0 1 1 0 1 1 1 1 0 1 1 1 1 0 1 0 1 1 1 1 0 0 0 0 0 1 0 0\n",
            " 1 1 1 0 1 0 0 1 0 0 0 1 1 0 0 1 1 1 0 1 0 0 1 1 1 1 0 1 1 0 1 0 0 1 1 1 1\n",
            " 1 0 0 1 1 1 1 0 0 0 1 0 1 0 1 0 0 0 0 0 0 1 0 1 0 1]\n",
            "Prédictions du perceptron :\n",
            " [1, 1, 1, 1, 1, 1, 1, 1, 1, 1, 1, 1, 1, 1, 1, 1, 1, 1, 1, 1, 1, 1, 1, 1, 1, 1, 1, 1, 1, 1, 1, 1, 1, 1, 1, 1, 1, 1, 1, 1, 1, 1, 1, 1, 1, 1, 1, 1, 1, 1, 1, 1, 1, 1, 1, 1, 1, 1, 1, 1, 1, 1, 1, 1, 1, 1, 1, 1, 1, 1, 1, 1, 1, 1, 1, 1, 1, 1, 1, 1, 1, 1, 1, 1, 1, 1, 1, 1, 1, 1, 1, 1, 1, 1, 1, 1, 1, 1, 1, 1]\n"
          ]
        }
      ]
    },
    {
      "cell_type": "markdown",
      "source": [
        "## Transformation Polynomiale"
      ],
      "metadata": {
        "id": "WAyITMM15I9H"
      }
    },
    {
      "cell_type": "code",
      "source": [
        "import numpy as np\n",
        "\n",
        "class PolynomialTransformPerceptron:\n",
        "    def __init__(self, input_size):\n",
        "        # Initialisation des poids et du seuil\n",
        "        self.weights = np.random.rand(input_size)\n",
        "        self.interactions_weights = np.random.rand(input_size, input_size)\n",
        "        self.threshold = np.random.rand()\n",
        "\n",
        "    def polynomial_function(self, x):\n",
        "        # Fonction de décision avec termes quadratiques\n",
        "        linear_term = np.dot(self.weights, x)\n",
        "        quadratic_term = np.sum(np.sum(self.interactions_weights * np.outer(x, x)))\n",
        "        return linear_term + quadratic_term\n",
        "\n",
        "    def step_function(self, x):\n",
        "        # Fonction échelon unitaire\n",
        "        return 1 if x >= 0 else 0\n",
        "\n",
        "    def predict(self, x):\n",
        "        # Calcul de la sortie du perceptron avec transformation polynomiale\n",
        "        decision_value = self.polynomial_function(x)\n",
        "        output = self.step_function(decision_value - self.threshold)\n",
        "        return output\n",
        "\n",
        "# Génération des données XOR\n",
        "num_samples = 100\n",
        "X_xor, y_xor = generate_xor_data(num_samples)\n",
        "\n",
        "# Initialisation du perceptron avec la taille d'entrée appropriée (2 pour XOR)\n",
        "poly_perceptron = PolynomialTransformPerceptron(input_size=2)\n",
        "\n",
        "# Entraînement du perceptron\n",
        "epochs = 1000\n",
        "learning_rate = 0.1\n",
        "\n",
        "for epoch in range(epochs):\n",
        "    for i in range(num_samples):\n",
        "        # Sélection d'un exemple aléatoire\n",
        "        random_index = np.random.randint(num_samples)\n",
        "        x_sample = X_xor[random_index]\n",
        "        y_sample = y_xor[random_index]\n",
        "\n",
        "        # Calcul de la prédiction du perceptron avec transformation polynomiale\n",
        "        prediction = poly_perceptron.predict(x_sample)\n",
        "\n",
        "        # Mise à jour des poids en fonction de l'erreur\n",
        "        error = y_sample - prediction\n",
        "        poly_perceptron.weights += learning_rate * error * x_sample\n",
        "        poly_perceptron.interactions_weights += learning_rate * error * np.outer(x_sample, x_sample)\n",
        "        poly_perceptron.threshold -= learning_rate * error\n",
        "\n",
        "# Test du perceptron avec transformation polynomiale sur les données XOR générées\n",
        "predictions_poly = [poly_perceptron.predict(x) for x in X_xor]\n",
        "\n",
        "# Affichage des résultats\n",
        "print(\"Vraies sorties XOR :\\n\", y_xor)\n",
        "print(\"Prédictions du perceptron avec transformation polynomiale :\\n\", predictions_poly)\n"
      ],
      "metadata": {
        "colab": {
          "base_uri": "https://localhost:8080/"
        },
        "id": "AEBTRYn34EHU",
        "outputId": "e6025ecb-7663-4b5b-d1b6-be67bb0f2cc6"
      },
      "execution_count": 3,
      "outputs": [
        {
          "output_type": "stream",
          "name": "stdout",
          "text": [
            "Vraies sorties XOR :\n",
            " [1 0 1 1 0 0 0 1 0 1 0 0 1 0 1 1 1 0 1 0 1 1 0 1 1 1 1 0 0 1 1 0 0 1 1 0 1\n",
            " 1 0 1 0 0 0 1 1 0 0 0 1 1 0 0 0 0 1 1 0 1 0 0 1 0 1 0 0 0 1 1 1 1 1 1 1 1\n",
            " 0 0 0 1 0 1 1 1 0 1 0 0 1 0 1 0 1 1 1 0 1 0 1 1 1 0]\n",
            "Prédictions du perceptron avec transformation polynomiale :\n",
            " [1, 0, 1, 1, 0, 0, 0, 1, 0, 1, 0, 0, 1, 0, 1, 1, 1, 0, 1, 0, 1, 1, 0, 1, 1, 1, 1, 0, 0, 1, 1, 0, 0, 1, 1, 0, 1, 1, 0, 1, 0, 0, 0, 1, 1, 0, 0, 0, 1, 1, 0, 0, 0, 0, 1, 1, 0, 1, 0, 0, 1, 0, 1, 0, 0, 0, 1, 1, 1, 1, 1, 1, 1, 1, 0, 0, 0, 1, 0, 1, 1, 1, 0, 1, 0, 0, 1, 0, 1, 0, 1, 1, 1, 0, 1, 0, 1, 1, 1, 0]\n"
          ]
        }
      ]
    },
    {
      "cell_type": "markdown",
      "source": [
        "##  Visualisation, Analyse et t Interprétation"
      ],
      "metadata": {
        "id": "NKYYQqtR5OeK"
      }
    },
    {
      "cell_type": "code",
      "source": [
        "import matplotlib.pyplot as plt\n",
        "from matplotlib.colors import ListedColormap\n",
        "\n",
        "# Générer une grille d'échantillons pour la visualisation de la frontière de décision\n",
        "x_min, x_max = X_xor[:, 0].min() - 1, X_xor[:, 0].max() + 1\n",
        "y_min, y_max = X_xor[:, 1].min() - 1, X_xor[:, 1].max() + 1\n",
        "xx, yy = np.meshgrid(np.arange(x_min, x_max, 0.01),\n",
        "                     np.arange(y_min, y_max, 0.01))\n",
        "\n",
        "# Prédire la classe pour chaque point de la grille\n",
        "Z = np.array([poly_perceptron.predict(np.array([x, y])) for x, y in np.c_[xx.ravel(), yy.ravel()]])\n",
        "Z = Z.reshape(xx.shape)\n",
        "\n",
        "# Afficher le nuage de points des données XOR\n",
        "plt.scatter(X_xor[y_xor == 0][:, 0], X_xor[y_xor == 0][:, 1], label='Classe 0', marker='o')\n",
        "plt.scatter(X_xor[y_xor == 1][:, 0], X_xor[y_xor == 1][:, 1], label='Classe 1', marker='x')\n",
        "\n",
        "# Afficher la frontière de décision\n",
        "plt.contourf(xx, yy, Z, alpha=0.3, cmap=ListedColormap(['#FFAAAA', '#AAAAFF']))\n",
        "\n",
        "# Ajouter des légendes et des titres\n",
        "plt.title('Frontière de décision avec transformation polynomiale')\n",
        "plt.xlabel('X1')\n",
        "plt.ylabel('X2')\n",
        "plt.legend()\n",
        "\n",
        "# Afficher le graphique\n",
        "plt.show()\n"
      ],
      "metadata": {
        "colab": {
          "base_uri": "https://localhost:8080/",
          "height": 472
        },
        "id": "cICVRt-V4kmH",
        "outputId": "fb93d684-997e-4c0e-a9b6-a77d501f3af5"
      },
      "execution_count": 4,
      "outputs": [
        {
          "output_type": "display_data",
          "data": {
            "text/plain": [
              "<Figure size 640x480 with 1 Axes>"
            ],
            "image/png": "[encoded data removed]"
          },
          "metadata": {}
        }
      ]
    }
  ]
}